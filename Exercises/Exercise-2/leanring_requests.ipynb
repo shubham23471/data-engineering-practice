{
 "cells": [
  {
   "cell_type": "code",
   "execution_count": 30,
   "id": "9ca6f17b",
   "metadata": {},
   "outputs": [],
   "source": [
    "import os \n",
    "import json"
   ]
  },
  {
   "cell_type": "code",
   "execution_count": 16,
   "id": "797da462",
   "metadata": {},
   "outputs": [],
   "source": [
    "directory = '/Users/shubham/projects/de/data-engineering-practice/Exercises/Exercise-4'"
   ]
  },
  {
   "cell_type": "code",
   "execution_count": 27,
   "id": "f6952884",
   "metadata": {},
   "outputs": [
    {
     "name": "stdout",
     "output_type": "stream",
     "text": [
      "/Users/shubham/projects/de/data-engineering-practice/Exercises/Exercise-4/data/file-1.json\n",
      "/Users/shubham/projects/de/data-engineering-practice/Exercises/Exercise-4/data/enough_already/file-4.json\n",
      "/Users/shubham/projects/de/data-engineering-practice/Exercises/Exercise-4/data/some_folder/other_folder/file-2.json\n",
      "/Users/shubham/projects/de/data-engineering-practice/Exercises/Exercise-4/data/other_folder/file-3.json\n"
     ]
    }
   ],
   "source": [
    "json_file_abs_dir = []\n",
    "for root, dirs, files in os.walk(directory):\n",
    "    for file in files:\n",
    "        if file.endswith('.json'):\n",
    "            print(root + '/' + file)\n",
    "            json_file = root + '/' + file\n",
    "            json_file_abs_dir.append(json_file)"
   ]
  },
  {
   "cell_type": "code",
   "execution_count": 29,
   "id": "17799533",
   "metadata": {},
   "outputs": [
    {
     "data": {
      "text/plain": [
       "4"
      ]
     },
     "execution_count": 29,
     "metadata": {},
     "output_type": "execute_result"
    }
   ],
   "source": [
    "len(json_file_abs_dir)"
   ]
  },
  {
   "cell_type": "code",
   "execution_count": 36,
   "id": "ee4d405a",
   "metadata": {},
   "outputs": [],
   "source": [
    "some_file = '/Users/shubham/projects/de/data-engineering-practice/Exercises/Exercise-4/data/file-1.json'"
   ]
  },
  {
   "cell_type": "code",
   "execution_count": 39,
   "id": "4e93e1db",
   "metadata": {},
   "outputs": [
    {
     "name": "stdout",
     "output_type": "stream",
     "text": [
      "{'name': 'Aachen', 'id': '1', 'nametype': 'Valid', 'recclass': 'L5', 'mass': '21', 'fall': 'Fell', 'year': '1880-01-01T00:00:00.000', 'reclat': '50.775000', 'reclong': '6.083330', 'geolocation': {'type': 'Point', 'coordinates': [6.08333, 50.775]}}\n"
     ]
    }
   ],
   "source": [
    "with open(some_file, 'r') as file:\n",
    "    data = json.load(file)"
   ]
  },
  {
   "cell_type": "code",
   "execution_count": 40,
   "id": "1f7d1586",
   "metadata": {},
   "outputs": [],
   "source": [
    "import pandas as pd "
   ]
  },
  {
   "cell_type": "code",
   "execution_count": 62,
   "id": "f10a81d9",
   "metadata": {},
   "outputs": [],
   "source": [
    "df = pd.json_normalize(data, sep='_')"
   ]
  },
  {
   "cell_type": "code",
   "execution_count": 55,
   "id": "42f61203",
   "metadata": {},
   "outputs": [],
   "source": [
    "def flatten_json(data):\n",
    "    new_data = dict()\n",
    "    for key, value in data.items():\n",
    "        if not isinstance(value, dict):\n",
    "            new_data[key] = value\n",
    "        else:\n",
    "            for k, v in value.items():\n",
    "                new_data[key + '_' + k] = v\n",
    "    \n",
    "    return new_data"
   ]
  },
  {
   "cell_type": "code",
   "execution_count": null,
   "id": "98cadeba",
   "metadata": {},
   "outputs": [],
   "source": []
  }
 ],
 "metadata": {
  "kernelspec": {
   "display_name": "Python 3 (ipykernel)",
   "language": "python",
   "name": "python3"
  },
  "language_info": {
   "codemirror_mode": {
    "name": "ipython",
    "version": 3
   },
   "file_extension": ".py",
   "mimetype": "text/x-python",
   "name": "python",
   "nbconvert_exporter": "python",
   "pygments_lexer": "ipython3",
   "version": "3.10.0"
  }
 },
 "nbformat": 4,
 "nbformat_minor": 5
}
